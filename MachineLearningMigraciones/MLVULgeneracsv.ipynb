{
  "nbformat": 4,
  "nbformat_minor": 0,
  "metadata": {
    "colab": {
      "provenance": []
    },
    "kernelspec": {
      "name": "python3",
      "display_name": "Python 3"
    },
    "language_info": {
      "name": "python"
    }
  },
  "cells": [
    {
      "cell_type": "code",
      "execution_count": 1,
      "metadata": {
        "colab": {
          "base_uri": "https://localhost:8080/"
        },
        "id": "-ijtrQgmgWPe",
        "outputId": "6ab65b23-8a54-4631-a90d-80c673446605"
      },
      "outputs": [
        {
          "output_type": "stream",
          "name": "stdout",
          "text": [
            "Mounted at /content/drive\n"
          ]
        }
      ],
      "source": [
        "from google.colab import drive\n",
        "drive.mount('/content/drive')"
      ]
    },
    {
      "cell_type": "code",
      "source": [
        "# codigo generar csv con las predicciones de los paises\n",
        "\n",
        "# cargamos las librerias a utilizar\n",
        "import pandas as pd\n",
        "import numpy as np\n",
        "from sklearn.linear_model import LinearRegression\n",
        "from sklearn.preprocessing import LabelEncoder\n",
        "import matplotlib.pyplot as plt\n",
        "from sklearn.metrics import r2_score, mean_squared_error, mean_absolute_error\n",
        "\n",
        "# hacemos la ingesta de la data de remesas por paises\n",
        "df = pd.read_csv('/content/drive/MyDrive/Colab Notebooks/MLparaPFbootcampDS/dwhMLVULprepDATA.csv')\n",
        "\n",
        "# Seleccionar país para la predicción\n",
        "paises= ['PER', 'COL','BOL', 'MEX','CHL', 'ECU','BRA', 'URY', 'VEN']\n",
        "indice= 1\n",
        "paispredecir = paises[indice]\n",
        "df_ml = df.copy()\n",
        "df_ml['prediccion']= 0\n",
        "\n",
        "# Convertir de ancho a largo\n",
        "df_melted = pd.melt(df, id_vars=['codigopais'], var_name='year', value_name='remittances')\n",
        "\n",
        "# eliminamos valores NaN\n",
        "df_melted.dropna(inplace=True)\n",
        "\n",
        "# Convertir year a variable numérica\n",
        "df_melted['year'] = pd.to_numeric(df_melted['year'])\n",
        "\n",
        "# Convertir remittances a tipo float\n",
        "#df_melted['remittances'] = df_melted['remittances'].str.replace(',', '.').astype(float)\n",
        "\n",
        "# Convertir codigopais a variable numérica mediante LabelEncoder\n",
        "le = LabelEncoder()\n",
        "df_melted['codigopais'] = le.fit_transform(df_melted['codigopais'])\n",
        "\n",
        "\n",
        "for indice in range(len(paises)):\n",
        "  paispredecir = paises[indice]\n",
        " \n",
        "  # falta añadir una consistencias que los paises seleccionados\n",
        "  # tengan existan en la tabla con datos, sino deberia seguir con el siguiente pais...\n",
        "  \n",
        "  # Filtrar datos por país seleccionado\n",
        "  df_pais = df_melted[df_melted['codigopais'] == le.transform([paispredecir])[0]]\n",
        "\n",
        "  # Ajustar modelo de regresión\n",
        "  X = df_pais[df_pais['year'] <= 2020][['year', 'codigopais']]\n",
        "  y = df_pais[df_pais['year'] <= 2020]['remittances']\n",
        "  reg = LinearRegression().fit(X, y)\n",
        "\n",
        "  # Hacer predicciones para el país seleccionado\n",
        "  añopredecir = 2021\n",
        "  X_pred = np.array([[añopredecir, le.transform([paispredecir])[0]]])\n",
        "  y_pred = reg.predict(X_pred)\n",
        "  print(f\"Predicción para {paispredecir} en {añopredecir}: {y_pred[0]:.4f}\")\n",
        "\n",
        "  df_ml.loc[df_ml['codigopais'] == paispredecir,'prediccion'] = round(y_pred[0], 4)\n",
        "\n",
        "\n",
        "# al finalizar el for, guarda el nuevo .csv del dataframe: df_ml\n",
        "df_ml.to_csv('/content/drive/MyDrive/Colab Notebooks/MLparaPFbootcampDS/dwhMLVULprepDATAPREDICCIONML.csv', index = False)"
      ],
      "metadata": {
        "colab": {
          "base_uri": "https://localhost:8080/"
        },
        "id": "FwZ3sGEAga0Z",
        "outputId": "790cd3c3-aaaa-4d5c-b750-7db681d86a7f"
      },
      "execution_count": 2,
      "outputs": [
        {
          "output_type": "stream",
          "name": "stderr",
          "text": [
            "/usr/local/lib/python3.10/dist-packages/sklearn/base.py:439: UserWarning: X does not have valid feature names, but LinearRegression was fitted with feature names\n",
            "  warnings.warn(\n",
            "/usr/local/lib/python3.10/dist-packages/sklearn/base.py:439: UserWarning: X does not have valid feature names, but LinearRegression was fitted with feature names\n",
            "  warnings.warn(\n",
            "/usr/local/lib/python3.10/dist-packages/sklearn/base.py:439: UserWarning: X does not have valid feature names, but LinearRegression was fitted with feature names\n",
            "  warnings.warn(\n",
            "/usr/local/lib/python3.10/dist-packages/sklearn/base.py:439: UserWarning: X does not have valid feature names, but LinearRegression was fitted with feature names\n",
            "  warnings.warn(\n",
            "/usr/local/lib/python3.10/dist-packages/sklearn/base.py:439: UserWarning: X does not have valid feature names, but LinearRegression was fitted with feature names\n",
            "  warnings.warn(\n",
            "/usr/local/lib/python3.10/dist-packages/sklearn/base.py:439: UserWarning: X does not have valid feature names, but LinearRegression was fitted with feature names\n",
            "  warnings.warn(\n",
            "/usr/local/lib/python3.10/dist-packages/sklearn/base.py:439: UserWarning: X does not have valid feature names, but LinearRegression was fitted with feature names\n",
            "  warnings.warn(\n",
            "/usr/local/lib/python3.10/dist-packages/sklearn/base.py:439: UserWarning: X does not have valid feature names, but LinearRegression was fitted with feature names\n",
            "  warnings.warn(\n",
            "/usr/local/lib/python3.10/dist-packages/sklearn/base.py:439: UserWarning: X does not have valid feature names, but LinearRegression was fitted with feature names\n",
            "  warnings.warn(\n"
          ]
        },
        {
          "output_type": "stream",
          "name": "stdout",
          "text": [
            "Predicción para PER en 2021: -2.6788\n",
            "Predicción para COL en 2021: 932.8856\n",
            "Predicción para BOL en 2021: 4.3838\n",
            "Predicción para MEX en 2021: 39.5127\n",
            "Predicción para CHL en 2021: -4.0605\n",
            "Predicción para ECU en 2021: 18.9817\n",
            "Predicción para BRA en 2021: 23.8985\n",
            "Predicción para URY en 2021: 0.8097\n",
            "Predicción para VEN en 2021: 168740.8758\n"
          ]
        }
      ]
    }
  ]
}