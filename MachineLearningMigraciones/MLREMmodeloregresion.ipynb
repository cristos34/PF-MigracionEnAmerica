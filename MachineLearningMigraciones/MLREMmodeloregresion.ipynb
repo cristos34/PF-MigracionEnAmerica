{
  "nbformat": 4,
  "nbformat_minor": 0,
  "metadata": {
    "colab": {
      "provenance": []
    },
    "kernelspec": {
      "name": "python3",
      "display_name": "Python 3"
    },
    "language_info": {
      "name": "python"
    }
  },
  "cells": [
    {
      "cell_type": "code",
      "source": [
        "#-------------------------------------------------------------------------------\n",
        "# Los datos de Datawarehouse(DWH) se bajaron del Google Cloud Platform a DRIVE\n",
        "# se preparo la data para ser leida por el modelo y solo contiene los \n",
        "# registros REM(Remesas) \n",
        "# Se monta el DRIVE para leer la data\n",
        "#-------------------------------------------------------------------------------\n",
        "# OBJETIVO: Aplicar un modelo de machine learning para poder predecir las remesas \n",
        "# de un pias, los parametrosde de seleccion son: pais y años, que para los\n",
        "# fines el aniopreceir es 2021.\n",
        "# El modelo que se usa es de regresion ineal\n",
        "######\n",
        "# EVALUACION DEL MODELO:\n",
        "#     Se aplican -  R2\n",
        "#                   MSE\n",
        "#                   MAE\n",
        "#-------------------------------------------------------------------------------"
      ],
      "metadata": {
        "id": "xIlPdu8XrTLq"
      },
      "execution_count": null,
      "outputs": []
    },
    {
      "cell_type": "code",
      "execution_count": null,
      "metadata": {
        "colab": {
          "base_uri": "https://localhost:8080/"
        },
        "id": "H4NaVvSDMvC0",
        "outputId": "9ff7cfb8-960f-4150-f748-7ebdcebdca40"
      },
      "outputs": [
        {
          "output_type": "stream",
          "name": "stdout",
          "text": [
            "Mounted at /content/drive\n"
          ]
        }
      ],
      "source": [
        "# para tener acceso a la tabla generada desde el DWH\n",
        "from google.colab import drive\n",
        "drive.mount('/content/drive')"
      ]
    },
    {
      "cell_type": "code",
      "source": [
        "#-------------------------------------------------------------------------------\n",
        "# modelo de ML para la prediccion de las remesas y evaluacion del modelo\n",
        "#-------------------------------------------------------------------------------\n",
        "import pandas as pd\n",
        "import numpy as np\n",
        "from sklearn.linear_model import LinearRegression\n",
        "from sklearn.preprocessing import LabelEncoder\n",
        "import matplotlib.pyplot as plt\n",
        "from sklearn.metrics import r2_score, mean_squared_error, mean_absolute_error\n",
        "\n",
        "# ingestamos la data de todas las remesas\n",
        "df = pd.read_csv('/content/drive/MyDrive/Colab Notebooks/MLparaPFbootcampDS/dwhMLREMprepDATA.csv')\n",
        "\n",
        "# Seleccionar país para la predicción\n",
        "paispredecir = 'PER'\n",
        "\n",
        "# Convertir de ancho a largo\n",
        "df_melted = pd.melt(df, id_vars=['codigopais'], var_name='year', value_name='remittances')\n",
        "\n",
        "# eliminamos valores NaN\n",
        "df_melted.dropna(inplace=True)\n",
        "\n",
        "# Convertir year a variable numérica\n",
        "df_melted['year'] = pd.to_numeric(df_melted['year'])\n",
        "\n",
        "# Convertir remittances a tipo float\n",
        "df_melted['remittances'] = df_melted['remittances'].str.replace(',', '.').astype(float)\n",
        "\n",
        "# Convertir codigopais a variable numérica mediante LabelEncoder\n",
        "le = LabelEncoder()\n",
        "df_melted['codigopais'] = le.fit_transform(df_melted['codigopais'])\n",
        "\n",
        "# Filtrar datos por país seleccionado\n",
        "df_pais = df_melted[df_melted['codigopais'] == le.transform([paispredecir])[0]]\n",
        "\n",
        "# Ajustar modelo de regresión\n",
        "X = df_pais[df_pais['year'] <= 2020][['year', 'codigopais']]\n",
        "y = df_pais[df_pais['year'] <= 2020]['remittances']\n",
        "reg = LinearRegression().fit(X, y)\n",
        "\n",
        "# Hacer predicciones para el país seleccionado\n",
        "añopredecir = 2021\n",
        "X_pred = np.array([[añopredecir, le.transform([paispredecir])[0]]])\n",
        "y_pred = reg.predict(X_pred)\n",
        "\n",
        "# calcular R2, MAE y MSE para el modelo\n",
        "y_true = df_pais[df_pais['year'] <= 2020]['remittances']\n",
        "y_pred_train = reg.predict(X)\n",
        "r2 = r2_score(y_true, y_pred_train)\n",
        "mse = mean_squared_error(y_true, y_pred_train)\n",
        "mae = mean_absolute_error(y_true, y_pred_train)\n",
        "\n",
        "print(f\"R2: {r2:.4f}\")\n",
        "print(f\"MSE: {mse:.4f}\")\n",
        "print(f\"MAE: {mae:.4f}\")\n",
        "print(f\"Predicción para {paispredecir} en {añopredecir}: {y_pred[0]:.4f}\")\n",
        "\n",
        "# Visualizar datos y predicción\n",
        "plt.scatter(X['year'], y)\n",
        "plt.plot(X['year'], y_pred_train, color='red')\n",
        "plt.xlabel('Año')\n",
        "plt.ylabel('Remesas')\n",
        "plt.title('Remesas para el país ' + paispredecir)\n",
        "plt.show()\n"
      ],
      "metadata": {
        "colab": {
          "base_uri": "https://localhost:8080/",
          "height": 582
        },
        "id": "i3iux0Y7NKva",
        "outputId": "58ce5a98-a2d0-4bbb-adab-fc243fa90f0a"
      },
      "execution_count": null,
      "outputs": [
        {
          "output_type": "stream",
          "name": "stderr",
          "text": [
            "/usr/local/lib/python3.10/dist-packages/sklearn/base.py:439: UserWarning: X does not have valid feature names, but LinearRegression was fitted with feature names\n",
            "  warnings.warn(\n"
          ]
        },
        {
          "output_type": "stream",
          "name": "stdout",
          "text": [
            "R2: 0.1461\n",
            "MSE: 0.0090\n",
            "MAE: 0.0731\n",
            "Predicción para PER en 2021: 1.3930\n"
          ]
        },
        {
          "output_type": "display_data",
          "data": {
            "text/plain": [
              "<Figure size 640x480 with 1 Axes>"
            ],
            "image/png": "[encoded data removed]"
          },
          "metadata": {}
        }
      ]
    }
  ]
}